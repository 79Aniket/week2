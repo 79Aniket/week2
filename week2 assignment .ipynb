{
 "cells": [
  {
   "cell_type": "markdown",
   "id": "11371292-36a9-41a8-a0f4-16f572218464",
   "metadata": {},
   "source": [
    "###  Q5. Given a list my_list = [1, 2, 3, 4, 5], write the code to slice the list and obtain the sub-list [2, 3].\n"
   ]
  },
  {
   "cell_type": "code",
   "execution_count": 1,
   "id": "4aec8e01-657a-4cc4-aed9-a04de1b87206",
   "metadata": {},
   "outputs": [],
   "source": [
    " my_list = [1, 2, 3, 4, 5]\n"
   ]
  },
  {
   "cell_type": "code",
   "execution_count": 3,
   "id": "34c53e67-f024-4dc4-a7c4-96958d44e4b3",
   "metadata": {},
   "outputs": [
    {
     "data": {
      "text/plain": [
       "[2, 3]"
      ]
     },
     "execution_count": 3,
     "metadata": {},
     "output_type": "execute_result"
    }
   ],
   "source": [
    "my_list[1:3]"
   ]
  },
  {
   "cell_type": "markdown",
   "id": "c211d528-51cd-44bd-9a03-38a3ae32e148",
   "metadata": {},
   "source": [
    "### Q1. How do you comment code in Python? What are the different types of comments?\n"
   ]
  },
  {
   "cell_type": "code",
   "execution_count": 6,
   "id": "37e1b7e3-00d6-49a6-b369-372192b2386d",
   "metadata": {},
   "outputs": [
    {
     "name": "stdout",
     "output_type": "stream",
     "text": [
      "pwskills\n",
      "pwskills\n"
     ]
    }
   ],
   "source": [
    "# This is a single-line comment.\n",
    "print(\"pwskills\")\n",
    "\n",
    "\n",
    "\"\"\" This is a multi-line comment. \"\"\"\n",
    "print(\"pwskills\")\n"
   ]
  },
  {
   "cell_type": "code",
   "execution_count": null,
   "id": "74127416-d82a-47e1-b84f-8d7f48e11206",
   "metadata": {},
   "outputs": [],
   "source": []
  },
  {
   "cell_type": "markdown",
   "id": "1cdae7aa-fc7e-4fe7-803b-3649d47a0685",
   "metadata": {},
   "source": [
    "### Q2. What are variables in Python? How do you declare and assign values to variables?\n"
   ]
  },
  {
   "cell_type": "code",
   "execution_count": 6,
   "id": "8fa0a7b7-5382-4196-9c26-0e0bb5636ed9",
   "metadata": {},
   "outputs": [
    {
     "name": "stdout",
     "output_type": "stream",
     "text": [
      "Pwskills\n",
      "30\n"
     ]
    }
   ],
   "source": [
    "name = \"Pwskills\" #this is a varible\n",
    "print(name)\n",
    "this_is_my_varible = 30\n",
    "print(this_is_my_varible)"
   ]
  },
  {
   "cell_type": "markdown",
   "id": "7abc66ac-a505-423f-a49f-ba237e34cb5f",
   "metadata": {},
   "source": [
    "###  Q10. Given the string \"Hello, World!\", extract the substring \"World\".\n",
    "\n"
   ]
  },
  {
   "cell_type": "code",
   "execution_count": 7,
   "id": "f15c4f9a-3648-417b-8438-a5649a5c4f5e",
   "metadata": {},
   "outputs": [],
   "source": [
    "string = \"Hello, World!\""
   ]
  },
  {
   "cell_type": "code",
   "execution_count": 8,
   "id": "0c63bd42-5272-472b-8940-e886dad8833a",
   "metadata": {},
   "outputs": [
    {
     "data": {
      "text/plain": [
       "' World'"
      ]
     },
     "execution_count": 8,
     "metadata": {},
     "output_type": "execute_result"
    }
   ],
   "source": [
    "string[6:12]"
   ]
  },
  {
   "cell_type": "code",
   "execution_count": null,
   "id": "859a087f-b2eb-4cfe-8ae3-9366fb7134ba",
   "metadata": {},
   "outputs": [],
   "source": []
  },
  {
   "cell_type": "markdown",
   "id": "be4821e8-7afc-4f19-bf49-6df4d5fb946c",
   "metadata": {},
   "source": [
    "### Q3. How do you convert one data type to another in Python?\n"
   ]
  },
  {
   "cell_type": "code",
   "execution_count": 20,
   "id": "7ca2bb2a-9640-433b-adb3-2628bf09ea28",
   "metadata": {},
   "outputs": [],
   "source": [
    "string_variable = \"123\""
   ]
  },
  {
   "cell_type": "code",
   "execution_count": null,
   "id": "d7e19813-71b5-4e3f-b39c-01cb1d1c806e",
   "metadata": {},
   "outputs": [],
   "source": [
    "string_variable"
   ]
  },
  {
   "cell_type": "code",
   "execution_count": 18,
   "id": "f09df4f1-05bd-4100-8ea7-2ccd4e694512",
   "metadata": {},
   "outputs": [
    {
     "data": {
      "text/plain": [
       "123"
      ]
     },
     "execution_count": 18,
     "metadata": {},
     "output_type": "execute_result"
    }
   ],
   "source": [
    "int(string_variable)"
   ]
  },
  {
   "cell_type": "markdown",
   "id": "5db7ec40-3ca2-4ffd-908c-b2d89e04dd69",
   "metadata": {},
   "source": [
    "### Q6. What is a complex number in mathematics, and how is it represented in Python?\n"
   ]
  },
  {
   "cell_type": "code",
   "execution_count": 1,
   "id": "45bf47fc-14e3-4df0-a141-635e3b2b9379",
   "metadata": {},
   "outputs": [],
   "source": [
    "x = 3+5j"
   ]
  },
  {
   "cell_type": "code",
   "execution_count": 3,
   "id": "2d337b6e-07e4-4cb8-9009-3ace136f4fc7",
   "metadata": {},
   "outputs": [
    {
     "name": "stdout",
     "output_type": "stream",
     "text": [
      "<class 'complex'>\n"
     ]
    }
   ],
   "source": [
    "print(type(x))\n",
    "    "
   ]
  },
  {
   "cell_type": "code",
   "execution_count": 4,
   "id": "f0507bf1-6d44-49a8-9ef9-29ae6c9f517d",
   "metadata": {},
   "outputs": [],
   "source": [
    "x1 = 32+3j\n",
    "x2 = 30+5j"
   ]
  },
  {
   "cell_type": "code",
   "execution_count": 5,
   "id": "33a9a035-2e2b-4c02-93d8-23e26f4a9955",
   "metadata": {},
   "outputs": [
    {
     "name": "stdout",
     "output_type": "stream",
     "text": [
      "(62+8j)\n"
     ]
    }
   ],
   "source": [
    "print(x1+x2)"
   ]
  },
  {
   "cell_type": "markdown",
   "id": "7e5f43f8-87f7-4460-bd1d-3166dc3149db",
   "metadata": {},
   "source": [
    "### Q8. Declare a variable named price and assign the value 9.99 to it. What data type does this variable\n",
    "### belong to?\n"
   ]
  },
  {
   "cell_type": "code",
   "execution_count": 6,
   "id": "08c73775-54a7-46d8-a5b6-fc4642b2d98c",
   "metadata": {},
   "outputs": [],
   "source": [
    "price = 9.99"
   ]
  },
  {
   "cell_type": "code",
   "execution_count": 7,
   "id": "e6b0203e-4a1a-478d-972b-44acef471af5",
   "metadata": {},
   "outputs": [
    {
     "name": "stdout",
     "output_type": "stream",
     "text": [
      "<class 'float'>\n"
     ]
    }
   ],
   "source": [
    "print(type(price))"
   ]
  },
  {
   "cell_type": "markdown",
   "id": "d644b4b3-c21a-4489-851b-6fb4a630126d",
   "metadata": {},
   "source": [
    "### Q11. Create a variable named \"is_student\" and assign it a boolean value indicating whether you are\n",
    "### currently a student or not"
   ]
  },
  {
   "cell_type": "code",
   "execution_count": 1,
   "id": "5661837c-9998-4238-9d2c-13374ab4a4cc",
   "metadata": {},
   "outputs": [
    {
     "name": "stdout",
     "output_type": "stream",
     "text": [
      "I am a student.\n"
     ]
    }
   ],
   "source": [
    "is_student = True\n",
    "\"\"\" I am currently a student becuse I am doing graduation from Darbhanga University \"\"\"\n",
    "if is_student:\n",
    "    print(\"I am a student.\")\n",
    "else:\n",
    "    print(\"I am not student.\")"
   ]
  },
  {
   "cell_type": "markdown",
   "id": "66790bd7-870e-4b0b-a91c-f1f441cee230",
   "metadata": {},
   "source": [
    "### Q9. Create a variable named name and assign your full name to it as a string. How would you print the\n",
    "### value of this variable?\n",
    "\n"
   ]
  },
  {
   "cell_type": "code",
   "execution_count": 2,
   "id": "03987c45-d1ba-4e14-be60-d781ec77b33b",
   "metadata": {},
   "outputs": [],
   "source": [
    "name = \"Aniket Kumar Sharma\""
   ]
  },
  {
   "cell_type": "code",
   "execution_count": 5,
   "id": "381e7286-49da-46ba-a221-68673565b56f",
   "metadata": {},
   "outputs": [
    {
     "name": "stdout",
     "output_type": "stream",
     "text": [
      "Aniket Kumar Sharma\n"
     ]
    }
   ],
   "source": [
    "print(name)"
   ]
  },
  {
   "cell_type": "markdown",
   "id": "d3c1d092-1518-408f-b40f-ad2230ab474b",
   "metadata": {},
   "source": [
    "### Q7. What is the correct way to declare a variable named age and assign the value 25 to it?\n"
   ]
  },
  {
   "cell_type": "code",
   "execution_count": 8,
   "id": "63085b61-6b9d-4989-b2f6-360e67851226",
   "metadata": {},
   "outputs": [
    {
     "name": "stdout",
     "output_type": "stream",
     "text": [
      "I am 25 years old boy.\n"
     ]
    }
   ],
   "source": [
    "Age = 25\n",
    "print(\"I am\",Age, \"years old boy.\")"
   ]
  },
  {
   "cell_type": "code",
   "execution_count": null,
   "id": "44dad5c7-0cbe-487e-adbb-e7ec2ff20361",
   "metadata": {},
   "outputs": [],
   "source": []
  }
 ],
 "metadata": {
  "kernelspec": {
   "display_name": "Python 3 (ipykernel)",
   "language": "python",
   "name": "python3"
  },
  "language_info": {
   "codemirror_mode": {
    "name": "ipython",
    "version": 3
   },
   "file_extension": ".py",
   "mimetype": "text/x-python",
   "name": "python",
   "nbconvert_exporter": "python",
   "pygments_lexer": "ipython3",
   "version": "3.10.8"
  }
 },
 "nbformat": 4,
 "nbformat_minor": 5
}
